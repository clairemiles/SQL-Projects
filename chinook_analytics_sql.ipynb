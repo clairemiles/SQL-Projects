{
 "cells": [
  {
   "cell_type": "markdown",
   "metadata": {
    "collapsed": true
   },
   "source": [
    "## Business Analytics in SQL\n",
    "\n",
    "In this notebook, I will be solving a series of business questions using SQLite in Python and the well-known [Chinook database](https://github.com/lerocha/chinook-database), which is data model representing a digital media store."
   ]
  },
  {
   "cell_type": "code",
   "execution_count": 1,
   "metadata": {
    "collapsed": true
   },
   "outputs": [],
   "source": [
    "# import relevant packages\n",
    "import sqlite3\n",
    "import pandas as pd\n",
    "import matplotlib.pyplot as plt \n",
    "% matplotlib inline"
   ]
  },
  {
   "cell_type": "markdown",
   "metadata": {},
   "source": [
    "### Creating Functions to Use in Our Analysis\n",
    "Because we will be running multiple SQL queries in Python, it will help to create a function that simplifies the process. The context manager in the function will remove the need for us to manually open and close the connection to the database, as well as prevent us from accidentally changing the database should we run into a query error. This will be the **run_query()** function."
   ]
  },
  {
   "cell_type": "code",
   "execution_count": 2,
   "metadata": {
    "collapsed": true
   },
   "outputs": [],
   "source": [
    "# create function with a context manager to run queries\n",
    "# function returns dataframe version of the query output\n",
    "def run_query(q):\n",
    "    with sqlite3.connect('chinook.db') as conn:\n",
    "        return pd.read_sql(q, conn)"
   ]
  },
  {
   "cell_type": "markdown",
   "metadata": {},
   "source": [
    "It's also useful to have a function that runs SQL queries that don't return tables. We will use this when we want to create views. This will be the **run_command()** function."
   ]
  },
  {
   "cell_type": "code",
   "execution_count": 3,
   "metadata": {
    "collapsed": true
   },
   "outputs": [],
   "source": [
    "# create function that executes SQL commands in the sqlite module\n",
    "def run_command(q):\n",
    "    with sqlite3.connect('chinook.db') as conn:\n",
    "        conn.isolation_level = None # tells SQLite to autocommit any changes\n",
    "        conn.execute(c)"
   ]
  },
  {
   "cell_type": "markdown",
   "metadata": {},
   "source": [
    "The third function is useful for returning a list of all of the tables and views in our database for reference, especially as they change throughout our analysis. This will be the **show_tables()** function"
   ]
  },
  {
   "cell_type": "code",
   "execution_count": 4,
   "metadata": {
    "collapsed": true
   },
   "outputs": [],
   "source": [
    "# create function that returns all tables in views in the database\n",
    "def show_tables():\n",
    "    return run_query('''\n",
    "                      SELECT\n",
    "                          name,\n",
    "                          type\n",
    "                      FROM sqlite_master\n",
    "                      WHERE type IN (\"table\", \"view\")\n",
    "                    ''')"
   ]
  },
  {
   "cell_type": "markdown",
   "metadata": {},
   "source": [
    "Now let's see what tables and views are currently in the database using our functions:"
   ]
  },
  {
   "cell_type": "code",
   "execution_count": 5,
   "metadata": {
    "collapsed": false
   },
   "outputs": [
    {
     "data": {
      "text/html": [
       "<div>\n",
       "<style scoped>\n",
       "    .dataframe tbody tr th:only-of-type {\n",
       "        vertical-align: middle;\n",
       "    }\n",
       "\n",
       "    .dataframe tbody tr th {\n",
       "        vertical-align: top;\n",
       "    }\n",
       "\n",
       "    .dataframe thead th {\n",
       "        text-align: right;\n",
       "    }\n",
       "</style>\n",
       "<table border=\"1\" class=\"dataframe\">\n",
       "  <thead>\n",
       "    <tr style=\"text-align: right;\">\n",
       "      <th></th>\n",
       "      <th>name</th>\n",
       "      <th>type</th>\n",
       "    </tr>\n",
       "  </thead>\n",
       "  <tbody>\n",
       "    <tr>\n",
       "      <th>0</th>\n",
       "      <td>album</td>\n",
       "      <td>table</td>\n",
       "    </tr>\n",
       "    <tr>\n",
       "      <th>1</th>\n",
       "      <td>artist</td>\n",
       "      <td>table</td>\n",
       "    </tr>\n",
       "    <tr>\n",
       "      <th>2</th>\n",
       "      <td>customer</td>\n",
       "      <td>table</td>\n",
       "    </tr>\n",
       "    <tr>\n",
       "      <th>3</th>\n",
       "      <td>employee</td>\n",
       "      <td>table</td>\n",
       "    </tr>\n",
       "    <tr>\n",
       "      <th>4</th>\n",
       "      <td>genre</td>\n",
       "      <td>table</td>\n",
       "    </tr>\n",
       "    <tr>\n",
       "      <th>5</th>\n",
       "      <td>invoice</td>\n",
       "      <td>table</td>\n",
       "    </tr>\n",
       "    <tr>\n",
       "      <th>6</th>\n",
       "      <td>invoice_line</td>\n",
       "      <td>table</td>\n",
       "    </tr>\n",
       "    <tr>\n",
       "      <th>7</th>\n",
       "      <td>media_type</td>\n",
       "      <td>table</td>\n",
       "    </tr>\n",
       "    <tr>\n",
       "      <th>8</th>\n",
       "      <td>playlist</td>\n",
       "      <td>table</td>\n",
       "    </tr>\n",
       "    <tr>\n",
       "      <th>9</th>\n",
       "      <td>playlist_track</td>\n",
       "      <td>table</td>\n",
       "    </tr>\n",
       "    <tr>\n",
       "      <th>10</th>\n",
       "      <td>track</td>\n",
       "      <td>table</td>\n",
       "    </tr>\n",
       "  </tbody>\n",
       "</table>\n",
       "</div>"
      ],
      "text/plain": [
       "              name   type\n",
       "0            album  table\n",
       "1           artist  table\n",
       "2         customer  table\n",
       "3         employee  table\n",
       "4            genre  table\n",
       "5          invoice  table\n",
       "6     invoice_line  table\n",
       "7       media_type  table\n",
       "8         playlist  table\n",
       "9   playlist_track  table\n",
       "10           track  table"
      ]
     },
     "execution_count": 5,
     "metadata": {},
     "output_type": "execute_result"
    }
   ],
   "source": [
    "# run show_tables()\n",
    "show_tables()"
   ]
  },
  {
   "cell_type": "markdown",
   "metadata": {},
   "source": [
    "### Selecting Albums to Purchase\n",
    "The Chinook record store has just signed a deal with a new record label, and you've been tasked with selecting the first three albums that will be added to the store, from a list of four:\n",
    "1. Artist: Regal, Genre: Hip-Hop\n",
    "2. Artist: Red Tone, Genre: Punk\n",
    "3. Artist: Meteor and the Girls, Genre: Pop\n",
    "4. Artist: Slim Jim Bites, Genre: Blues\n",
    "\n",
    "Find out which genres sell the most tracks in the USA, and then create a visualization of that data."
   ]
  },
  {
   "cell_type": "code",
   "execution_count": 6,
   "metadata": {
    "collapsed": false
   },
   "outputs": [
    {
     "data": {
      "text/html": [
       "<div>\n",
       "<style scoped>\n",
       "    .dataframe tbody tr th:only-of-type {\n",
       "        vertical-align: middle;\n",
       "    }\n",
       "\n",
       "    .dataframe tbody tr th {\n",
       "        vertical-align: top;\n",
       "    }\n",
       "\n",
       "    .dataframe thead th {\n",
       "        text-align: right;\n",
       "    }\n",
       "</style>\n",
       "<table border=\"1\" class=\"dataframe\">\n",
       "  <thead>\n",
       "    <tr style=\"text-align: right;\">\n",
       "      <th></th>\n",
       "      <th>genre</th>\n",
       "      <th>number_tracks_sold</th>\n",
       "      <th>percentage_tracks_sold</th>\n",
       "    </tr>\n",
       "  </thead>\n",
       "  <tbody>\n",
       "    <tr>\n",
       "      <th>0</th>\n",
       "      <td>Rock</td>\n",
       "      <td>561</td>\n",
       "      <td>53.377735</td>\n",
       "    </tr>\n",
       "    <tr>\n",
       "      <th>1</th>\n",
       "      <td>Alternative &amp; Punk</td>\n",
       "      <td>130</td>\n",
       "      <td>12.369172</td>\n",
       "    </tr>\n",
       "    <tr>\n",
       "      <th>2</th>\n",
       "      <td>Metal</td>\n",
       "      <td>124</td>\n",
       "      <td>11.798287</td>\n",
       "    </tr>\n",
       "    <tr>\n",
       "      <th>3</th>\n",
       "      <td>R&amp;B/Soul</td>\n",
       "      <td>53</td>\n",
       "      <td>5.042816</td>\n",
       "    </tr>\n",
       "    <tr>\n",
       "      <th>4</th>\n",
       "      <td>Blues</td>\n",
       "      <td>36</td>\n",
       "      <td>3.425309</td>\n",
       "    </tr>\n",
       "    <tr>\n",
       "      <th>5</th>\n",
       "      <td>Alternative</td>\n",
       "      <td>35</td>\n",
       "      <td>3.330162</td>\n",
       "    </tr>\n",
       "    <tr>\n",
       "      <th>6</th>\n",
       "      <td>Latin</td>\n",
       "      <td>22</td>\n",
       "      <td>2.093245</td>\n",
       "    </tr>\n",
       "    <tr>\n",
       "      <th>7</th>\n",
       "      <td>Pop</td>\n",
       "      <td>22</td>\n",
       "      <td>2.093245</td>\n",
       "    </tr>\n",
       "    <tr>\n",
       "      <th>8</th>\n",
       "      <td>Hip Hop/Rap</td>\n",
       "      <td>20</td>\n",
       "      <td>1.902950</td>\n",
       "    </tr>\n",
       "    <tr>\n",
       "      <th>9</th>\n",
       "      <td>Jazz</td>\n",
       "      <td>14</td>\n",
       "      <td>1.332065</td>\n",
       "    </tr>\n",
       "  </tbody>\n",
       "</table>\n",
       "</div>"
      ],
      "text/plain": [
       "                genre  number_tracks_sold  percentage_tracks_sold\n",
       "0                Rock                 561               53.377735\n",
       "1  Alternative & Punk                 130               12.369172\n",
       "2               Metal                 124               11.798287\n",
       "3            R&B/Soul                  53                5.042816\n",
       "4               Blues                  36                3.425309\n",
       "5         Alternative                  35                3.330162\n",
       "6               Latin                  22                2.093245\n",
       "7                 Pop                  22                2.093245\n",
       "8         Hip Hop/Rap                  20                1.902950\n",
       "9                Jazz                  14                1.332065"
      ]
     },
     "execution_count": 6,
     "metadata": {},
     "output_type": "execute_result"
    }
   ],
   "source": [
    "# Write a query that returns each genre, with the\n",
    "# number of tracks sold in absolute numbers \n",
    "# and in percentages.\n",
    "q = '''WITH usa_invoice AS\n",
    "            (\n",
    "            SELECT il.*\n",
    "            FROM invoice_line il\n",
    "            INNER JOIN customer c ON i.customer_id = c.customer_id\n",
    "            INNER JOIN invoice i ON i.invoice_id = il.invoice_id\n",
    "            WHERE c.country = 'USA'\n",
    "            )\n",
    "\n",
    "        SELECT g.name AS genre,\n",
    "               COUNT(us.invoice_line_id) AS number_tracks_sold,\n",
    "               CAST(COUNT(us.invoice_line_id) AS FLOAT) / CAST(\n",
    "                                                              (SELECT COUNT(*)\n",
    "                                                              FROM usa_invoice)\n",
    "                                                           AS FLOAT)*100 AS percentage_tracks_sold\n",
    "        \n",
    "        FROM usa_invoice us\n",
    "        INNER JOIN track t ON us.track_id = t.track_id\n",
    "        INNER JOIN genre g ON t.genre_id = g.genre_id\n",
    "            \n",
    "        GROUP BY genre\n",
    "        ORDER BY percentage_tracks_sold DESC\n",
    "        LIMIT 10\n",
    "    '''\n",
    "\n",
    "# show output\n",
    "run_query(q)"
   ]
  },
  {
   "cell_type": "code",
   "execution_count": 7,
   "metadata": {
    "collapsed": false
   },
   "outputs": [
    {
     "data": {
      "text/plain": [
       "<matplotlib.axes._subplots.AxesSubplot at 0x7fe355734eb8>"
      ]
     },
     "execution_count": 7,
     "metadata": {},
     "output_type": "execute_result"
    },
    {
     "data": {
      "image/png": "[encoded data removed]",
      "text/plain": [
       "<matplotlib.figure.Figure at 0x7fe3b011e7b8>"
      ]
     },
     "metadata": {},
     "output_type": "display_data"
    }
   ],
   "source": [
    "# save query in dataframe\n",
    "sales_by_genre = run_query(q)\n",
    "\n",
    "# Create a plot to show this data.\n",
    "sales_by_genre.set_index('genre',drop=True,inplace=True)\n",
    "sales_by_genre.plot(kind='bar', title='Genre Sales in the USA')"
   ]
  },
  {
   "cell_type": "markdown",
   "metadata": {
    "collapsed": true
   },
   "source": [
    "From the query and graph above, it appears that Rock, Alternative & Punk, and Metal are the highest sold genres for Chinook. The lowest sold genres are Jazz, Hip-Hop, and Pop. From the data, I would recommend that we should purchase the albums from Red Time, a punk artist, Slim Jim Bites, a Blues artist, and Meteor and the Girls, a pop artist. These artists' genres sell the most among the group of four options.\n",
    "\n",
    "Alternatively, I would suggest that the record label should negotiate to find artists that are more suited to the tastes of their customers. The market is dominated by Rock, which represents over 50% of sales. Along with the next two most popular genres Alternative & Punk and Metal, these three genres cover over three-quarters of sales. Therefore, it's a better business decision for Chinook increase sales with a revised deal that promotes Rock, Punk, Metal, and Alternative artists."
   ]
  },
  {
   "cell_type": "markdown",
   "metadata": {},
   "source": [
    "### Analyzing Employee Sales Performance\n",
    "Each customer for the Chinook store gets assigned to a sales support agent within the company when they first make a purchase. Analyze the purchases of customers belonging to each employee to see if any sales support agent is performing either better or worse than the others."
   ]
  },
  {
   "cell_type": "markdown",
   "metadata": {},
   "source": [
    "**Write a query that finds the total dollar amount of sales assigned to each sales support agent within the company. Add any extra attributes for that employee that you find are relevant to the analysis.**"
   ]
  },
  {
   "cell_type": "code",
   "execution_count": 75,
   "metadata": {
    "collapsed": false
   },
   "outputs": [
    {
     "data": {
      "text/html": [
       "<div>\n",
       "<style scoped>\n",
       "    .dataframe tbody tr th:only-of-type {\n",
       "        vertical-align: middle;\n",
       "    }\n",
       "\n",
       "    .dataframe tbody tr th {\n",
       "        vertical-align: top;\n",
       "    }\n",
       "\n",
       "    .dataframe thead th {\n",
       "        text-align: right;\n",
       "    }\n",
       "</style>\n",
       "<table border=\"1\" class=\"dataframe\">\n",
       "  <thead>\n",
       "    <tr style=\"text-align: right;\">\n",
       "      <th></th>\n",
       "      <th>employee_name</th>\n",
       "      <th>hire_date</th>\n",
       "      <th>supervisor_name</th>\n",
       "      <th>total_revenue</th>\n",
       "      <th>total_units_sold</th>\n",
       "    </tr>\n",
       "  </thead>\n",
       "  <tbody>\n",
       "    <tr>\n",
       "      <th>0</th>\n",
       "      <td>Jane Peacock</td>\n",
       "      <td>2017-04-01 00:00:00</td>\n",
       "      <td>None</td>\n",
       "      <td>1731.51</td>\n",
       "      <td>1749</td>\n",
       "    </tr>\n",
       "    <tr>\n",
       "      <th>1</th>\n",
       "      <td>Margaret Park</td>\n",
       "      <td>2017-05-03 00:00:00</td>\n",
       "      <td>None</td>\n",
       "      <td>1584.00</td>\n",
       "      <td>1600</td>\n",
       "    </tr>\n",
       "    <tr>\n",
       "      <th>2</th>\n",
       "      <td>Steve Johnson</td>\n",
       "      <td>2017-10-17 00:00:00</td>\n",
       "      <td>None</td>\n",
       "      <td>1393.92</td>\n",
       "      <td>1408</td>\n",
       "    </tr>\n",
       "  </tbody>\n",
       "</table>\n",
       "</div>"
      ],
      "text/plain": [
       "   employee_name            hire_date supervisor_name  total_revenue  \\\n",
       "0   Jane Peacock  2017-04-01 00:00:00            None        1731.51   \n",
       "1  Margaret Park  2017-05-03 00:00:00            None        1584.00   \n",
       "2  Steve Johnson  2017-10-17 00:00:00            None        1393.92   \n",
       "\n",
       "   total_units_sold  \n",
       "0              1749  \n",
       "1              1600  \n",
       "2              1408  "
      ]
     },
     "execution_count": 75,
     "metadata": {},
     "output_type": "execute_result"
    }
   ],
   "source": [
    "q = \"\"\"\n",
    "    WITH invoices_per_agent AS \n",
    "        (\n",
    "        SELECT e.employee_id AS employee_id,\n",
    "               e.first_name || \" \" || e.last_name AS employee_name,\n",
    "               e.hire_date AS hire_date,\n",
    "               i.invoice_id\n",
    "        FROM employee e\n",
    "        INNER JOIN customer c ON e.employee_id = c.support_rep_id\n",
    "        INNER JOIN invoice i on i.customer_id = c.customer_id\n",
    "        ),\n",
    "\n",
    "        revenue_per_invoice AS\n",
    "        (\n",
    "        SELECT i.invoice_id AS invoice_id,\n",
    "               SUM(il.unit_price * il.quantity) AS invoice_revenue,\n",
    "               SUM(il.quantity) AS units_sold\n",
    "        FROM invoice i\n",
    "        INNER JOIN invoice_line il ON i.invoice_id = il.invoice_id\n",
    "        GROUP BY i.invoice_id\n",
    "        ),\n",
    "        \n",
    "        supervisor AS\n",
    "        (\n",
    "        SELECT e1.employee_id AS employee_id,\n",
    "              e2.first_name || \" \" || e2.last_name AS supervisor_name\n",
    "        FROM employee e1\n",
    "        INNER JOIN employee e2 ON e1.employee_id = e2.reports_to\n",
    "        )\n",
    "\n",
    "        SELECT ipa.employee_name AS employee_name,\n",
    "               ipa.hire_date AS hire_date,\n",
    "               s.supervisor_name AS supervisor_name,\n",
    "               SUM(rpi.invoice_revenue) AS total_revenue,\n",
    "               SUM(rpi.units_sold) AS total_units_sold\n",
    "        FROM invoices_per_agent ipa\n",
    "        INNER JOIN revenue_per_invoice rpi ON ipa.invoice_id = rpi.invoice_id\n",
    "        LEFT JOIN supervisor s ON ipa.employee_id = s.employee_id\n",
    "        GROUP BY employee_name\n",
    "        ORDER BY invoice_revenue DESC    \n",
    "    \"\"\"\n",
    "run_query(q)"
   ]
  },
  {
   "cell_type": "code",
   "execution_count": 77,
   "metadata": {
    "collapsed": false
   },
   "outputs": [
    {
     "data": {
      "text/plain": [
       "<matplotlib.axes._subplots.AxesSubplot at 0x7fe34afcc860>"
      ]
     },
     "execution_count": 77,
     "metadata": {},
     "output_type": "execute_result"
    },
    {
     "data": {
      "image/png": "[encoded data removed]",
      "text/plain": [
       "<matplotlib.figure.Figure at 0x7fe34afe5160>"
      ]
     },
     "metadata": {},
     "output_type": "display_data"
    }
   ],
   "source": [
    "# save query in dataframe\n",
    "employee_sales = run_query(q)\n",
    "\n",
    "# Create a plot to show this data.\n",
    "employee_sales.set_index('employee_name', drop=True, inplace=True)\n",
    "employee_sales.sort_values('total_revenue', inplace=True)\n",
    "employee_sales[['total_revenue']].plot.barh(title='Revenue Per Employee', legend=None)"
   ]
  },
  {
   "cell_type": "code",
   "execution_count": 82,
   "metadata": {
    "collapsed": false
   },
   "outputs": [
    {
     "data": {
      "text/plain": [
       "<matplotlib.axes._subplots.AxesSubplot at 0x7fe34ad6b390>"
      ]
     },
     "execution_count": 82,
     "metadata": {},
     "output_type": "execute_result"
    },
    {
     "data": {
      "image/png": "[encoded data removed]",
      "text/plain": [
       "<matplotlib.figure.Figure at 0x7fe34ad283c8>"
      ]
     },
     "metadata": {},
     "output_type": "display_data"
    }
   ],
   "source": [
    "employee_sales = run_query(q)\n",
    "#convert dates to datetime objects\n",
    "pd.to_datetime(employee_sales['hire_date'], format='%Y-%m-%d %H:%M:%S', errors='coerce')\n",
    "employee_sales.set_index('hire_date', drop=True, inplace=True)\n",
    "employee_sales[['total_revenue']].plot(title='Revenue by Hire Date', legend=None, kind='barh')"
   ]
  },
  {
   "cell_type": "code",
   "execution_count": 109,
   "metadata": {
    "collapsed": false
   },
   "outputs": [
    {
     "name": "stdout",
     "output_type": "stream",
     "text": [
      "Peacock has outsold Park by 8.52%.\n",
      "Peacock has outsold Johnson by 19.5%.\n"
     ]
    }
   ],
   "source": [
    "# calculate percent changes between employees\n",
    "employee_sales = run_query(q)\n",
    "employee_sales.set_index('employee_name', drop=True, inplace=True)\n",
    "peacock_rev = employee_sales.loc['Jane Peacock']['total_revenue']\n",
    "park_rev = employee_sales.loc['Margaret Park']['total_revenue']\n",
    "johnson_rev = employee_sales.loc['Steve Johnson']['total_revenue']\n",
    "\n",
    "peacock_johnson = ((peacock_rev-johnson_rev)/peacock_rev)*100\n",
    "peacock_park = ((peacock_rev-park_rev)/peacock_rev)*100\n",
    "\n",
    "print('Peacock has outsold Park by ' + str(round(peacock_park, 2)) + '%.')\n",
    "print('Peacock has outsold Johnson by ' + str(round(peacock_johnson,2)) + '%.')"
   ]
  },
  {
   "cell_type": "markdown",
   "metadata": {},
   "source": [
    "From the analysis of employee sales performance, Jane Peacock is has the made the most sales in terms of units sold and total revenue, while Steve Johnson has performed at the bottom. In terms of revenue, Jane Peacock has outperformed Margaret Park by 8.52% and Steve Johnson by 19.5%.\n",
    "\n",
    "One of the least influential factors is the employee's supervisor, since none of them have managers.\n",
    "\n",
    "However, one of the most influential factors into Peacock's success may be that she arrived at the company over six months before Johnson, giving her a head start in making sales. If we knew what month this theoretical dataset was collected, we could measure **sales per month** to get a more comparable metric from which to evaluate employee performance."
   ]
  }
 ],
 "metadata": {
  "kernelspec": {
   "display_name": "Python 3",
   "language": "python",
   "name": "python3"
  },
  "language_info": {
   "codemirror_mode": {
    "name": "ipython",
    "version": 3
   },
   "file_extension": ".py",
   "mimetype": "text/x-python",
   "name": "python",
   "nbconvert_exporter": "python",
   "pygments_lexer": "ipython3",
   "version": "3.4.3"
  }
 },
 "nbformat": 4,
 "nbformat_minor": 2
}
